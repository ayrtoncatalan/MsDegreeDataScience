{
 "cells": [
  {
   "cell_type": "code",
   "execution_count": 16,
   "metadata": {},
   "outputs": [],
   "source": [
    "def PatternCount(Text, Pattern):\n",
    "    count = 0\n",
    "    for i in range(0, (len(Text) - len(Pattern) + 1)):\n",
    "        if Text[i:i+len(Pattern)] == Pattern:\n",
    "            count = count + 1\n",
    "    return count\n",
    "\n",
    "\n",
    "\n",
    "def FrequentWords(Text, x):\n",
    "    maxcount = 0\n",
    "    patternlength = int(x)\n",
    "    maxpattern = []\n",
    "    for i in range(0, (len(Text) - patternlength + 1)):\n",
    "        if PatternCount(Text, Text[i:i + patternlength]) > maxcount:\n",
    "            maxcount = PatternCount(Text, Text[i:i+patternlength])\n",
    "            maxpattern = []\n",
    "            maxpattern.append(Text[i:i + patternlength])\n",
    "        elif PatternCount(Text, Text[i:i + patternlength]) == maxcount and Text[i:i+patternlength] not in maxpattern:\n",
    "            maxpattern.append(Text[i:i + patternlength])\n",
    "    print(maxcount)      \n",
    "    return maxpattern\n",
    "\n",
    "\n",
    "\n"
   ]
  },
  {
   "cell_type": "code",
   "execution_count": 18,
   "metadata": {},
   "outputs": [
    {
     "data": {
      "text/plain": [
       "6"
      ]
     },
     "execution_count": 18,
     "metadata": {},
     "output_type": "execute_result"
    }
   ],
   "source": [
    "PatternCount(\"GACCATCAAAACTGATAAACTACTTAAAAATCAGT\", \"AAA\")"
   ]
  },
  {
   "cell_type": "code",
   "execution_count": 2,
   "metadata": {},
   "outputs": [
    {
     "data": {
      "text/plain": [
       "1"
      ]
     },
     "execution_count": 2,
     "metadata": {},
     "output_type": "execute_result"
    }
   ],
   "source": [
    "a = [1,2,3,4,5]\n",
    "a[-0]"
   ]
  },
  {
   "cell_type": "code",
   "execution_count": 3,
   "metadata": {},
   "outputs": [
    {
     "name": "stdout",
     "output_type": "stream",
     "text": [
      "1.25\n"
     ]
    }
   ],
   "source": [
    "print(5/4)"
   ]
  },
  {
   "cell_type": "code",
   "execution_count": null,
   "metadata": {},
   "outputs": [],
   "source": [
    "if n > 1:\n",
    "    "
   ]
  }
 ],
 "metadata": {
  "kernelspec": {
   "display_name": "Python 3",
   "language": "python",
   "name": "python3"
  },
  "language_info": {
   "codemirror_mode": {
    "name": "ipython",
    "version": 3
   },
   "file_extension": ".py",
   "mimetype": "text/x-python",
   "name": "python",
   "nbconvert_exporter": "python",
   "pygments_lexer": "ipython3",
   "version": "3.7.4"
  }
 },
 "nbformat": 4,
 "nbformat_minor": 4
}
