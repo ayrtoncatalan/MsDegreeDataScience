{
 "cells": [
  {
   "cell_type": "markdown",
   "metadata": {},
   "source": [
    "# Tarea 1"
   ]
  },
  {
   "cell_type": "code",
   "execution_count": 4,
   "metadata": {},
   "outputs": [],
   "source": [
    "import validaciones"
   ]
  },
  {
   "cell_type": "markdown",
   "metadata": {},
   "source": [
    "## 1 - Problema del Sencillo\n",
    "Convertir una cantidad de dinero $x$ en monedas, utilizando la menor cantidad de monedas posibles.\n",
    "\n",
    "**Entrada**: Un numero entero que representa la cantidad de dinero y un arreglo d de las denominaciones de las monedas $c = (Q1.0, Q0.50, Q0.25, Q0.1)$ , \n",
    "en orden decreciente de valor $(c1 > c2 > ··· > c_{n})$\n",
    "\n",
    "**Salida**: Una lista de enteros  $i_{1}, i_{2},..., i_{d}$ \n",
    "tales que $c_{1} · i_{1} + c_{2}· i_{2} +··· + c_{d} · i_{d} = dinero$, \n",
    "y $i_{1} + i_{2} + ··· + i_{d}$ es lo mas pequeño posible"
   ]
  },
  {
   "cell_type": "code",
   "execution_count": 5,
   "metadata": {},
   "outputs": [
    {
     "name": "stdout",
     "output_type": "stream",
     "text": [
      "[4.   4.5  4.75 4.9 ]\n"
     ]
    }
   ],
   "source": [
    "import numpy as np\n",
    "\n",
    "def hacer_sencillo(dinero, monedas):\n",
    "    ## TU CODIGO AQUI:\n",
    "    sencillo = dinero - monedas\n",
    "    return sencillo\n",
    "    \n",
    "\n",
    "dinero = 5\n",
    "monedas = np.array([1,0.50,0.25,0.1]) \n",
    "Resultado_Sencillo = hacer_sencillo(dinero,monedas)\n",
    "print(Resultado_Sencillo)\n",
    "    "
   ]
  },
  {
   "cell_type": "markdown",
   "metadata": {},
   "source": [
    "## 2 - Sumando N series\n",
    "\n",
    "Tenemos una secuencia cuyo $n^{th}$ es:\n",
    "\\begin{equation*}\n",
    "\\ T_n = n^2 - (n-1)^2\n",
    "\\end{equation*}\n",
    "\n",
    "Hay que evaluar las series:\n",
    "\\begin{equation*}\n",
    "\\ S_n = T_1 + T_2 + ... + T_n\n",
    "\\end{equation*}\n",
    "\n",
    "\n",
    "**Instrucciones**\n",
    "En la siguiente celda en la funcion summingSeries debemos **retornar** en valor de $S_n$, tenemos como entrada n\n",
    "\n",
    "**Ejemplo 1:**\n",
    "\n",
    "Si la entrada es 2\n",
    "\n",
    "Salida:\n",
    "4\n",
    "\n",
    "Explicacion:\n",
    "\n",
    "$T_1 = 1$\n",
    "\n",
    "$T_2 = 3$\n",
    "\n",
    "$S_2 = T_1 + T_2$\n",
    "\n",
    "$S_2 = 4 $\n",
    "\n",
    "\n",
    "\n",
    "**Tip :**\n",
    "Antes te implementar $S_n$ debemos analizar el problema y ver si podemos reducir la complejidad."
   ]
  },
  {
   "cell_type": "code",
   "execution_count": 172,
   "metadata": {},
   "outputs": [
    {
     "name": "stdout",
     "output_type": "stream",
     "text": [
      "4\n"
     ]
    }
   ],
   "source": [
    "def summatoriaSerie(n):\n",
    "    \"\"\"\n",
    "    La funcion recibe como parametro n y retorna el valor se la serie\n",
    "    \"\"\"\n",
    "    Sn = n*n\n",
    "    return int(Sn)\n",
    "    \n",
    "    \n",
    "n = 2\n",
    "resultado = summatoriaSerie(n)\n",
    "print(resultado)"
   ]
  },
  {
   "cell_type": "markdown",
   "metadata": {},
   "source": [
    "#### 2.1 - Ciclos\n",
    "\n",
    "Crea un ciclo for que imprima el resultado de la funcion **summingSeries** desde 1 hasta 10"
   ]
  },
  {
   "cell_type": "code",
   "execution_count": 173,
   "metadata": {},
   "outputs": [
    {
     "name": "stdout",
     "output_type": "stream",
     "text": [
      "Ciclo # 1 Resultado: 1\n",
      "Ciclo # 2 Resultado: 4\n",
      "Ciclo # 3 Resultado: 9\n",
      "Ciclo # 4 Resultado: 16\n",
      "Ciclo # 5 Resultado: 25\n",
      "Ciclo # 6 Resultado: 36\n",
      "Ciclo # 7 Resultado: 49\n",
      "Ciclo # 8 Resultado: 64\n",
      "Ciclo # 9 Resultado: 81\n",
      "Ciclo # 10 Resultado: 100\n"
     ]
    }
   ],
   "source": [
    "## Tu codigo aqui\n",
    "for i in range(1,11):\n",
    "    print(\"Ciclo #\", i, \"Resultado:\",summatoriaSerie(i))\n",
    "    "
   ]
  },
  {
   "cell_type": "markdown",
   "metadata": {},
   "source": [
    "### Pruebas  Automaticas\n",
    "\n",
    "Todas las pruebas deben funcionar para obetener los puntos del ejercicio.\n",
    "\n",
    "##### Importante :\n",
    "En este ejercicio se evalua que la funcion sea optima, el tiempo de ejecucion tiene que ser el menor posible, se va a evaluar el resultado correcto y el tiempo de ejecucion, si en alguna de las pruebas obtienes **[FALLO: TIMEOUT]** la funcion no es optima debes cambiarla hasta que todas las pruebas pasen"
   ]
  },
  {
   "cell_type": "code",
   "execution_count": 174,
   "metadata": {},
   "outputs": [
    {
     "name": "stdout",
     "output_type": "stream",
     "text": [
      "Prueba 1\n",
      "Run time: 2.1457672119140625e-06\n",
      "Prueba 1[CORRECTA]\n",
      "Prueba 2\n",
      "Run time: 9.5367431640625e-07\n",
      "Prueba 2[CORRECTA]\n",
      "Prueba 3\n",
      "Run time: 0.0\n",
      "Prueba 3[CORRECTA]\n",
      "Prueba 4\n",
      "Run time: 9.5367431640625e-07\n",
      "Prueba 4[CORRECTA]\n",
      "Prueba 5\n",
      "Run time: 1.1920928955078125e-06\n",
      "Prueba 5[CORRECTA]\n",
      "Prueba 6\n",
      "Run time: 1.1920928955078125e-06\n",
      "Prueba 6[CORRECTA]\n"
     ]
    }
   ],
   "source": [
    "validaciones.summingSeries_function(summatoriaSerie)"
   ]
  },
  {
   "cell_type": "markdown",
   "metadata": {},
   "source": [
    "## 3 - Rotacion de listas hacia la izquierda\n",
    "\n",
    "Una rotacion a la izquierda en un arreglo mueve cada elemento del arreglo una vez hacia la izquierda. Por ejemplo, si hacemos $1$ rotacion en en el arreglo $[1,2,3,4,5]$, el arreglo resultante seria $[2,3,4,5,1]$\n",
    "\n",
    "#### Descipcion de la funcion\n",
    "Dado un arreglo $a$ de $n$ integers y un numero $d$ de rotaciones, realizar $d$ rotaciones hacia la izquierda. La funcion debe retorner el arreglo re-ordenado.\n",
    "\n",
    "**rotIzquierda** tiene los siguientes parametros:\n",
    "\n",
    "* $a$ Un arreglo de numeros entreros.\n",
    "* $d$ numero de rotaciones."
   ]
  },
  {
   "cell_type": "code",
   "execution_count": 343,
   "metadata": {},
   "outputs": [],
   "source": [
    "def rotIzquierda(a, d):\n",
    "    # tu codigo aqui\n",
    "    rotations = d\n",
    "    return a[rotations:] + a[:rotations]\n",
    "    "
   ]
  },
  {
   "cell_type": "code",
   "execution_count": 344,
   "metadata": {},
   "outputs": [
    {
     "data": {
      "text/plain": [
       "[5, 1, 2, 3, 4]"
      ]
     },
     "execution_count": 344,
     "metadata": {},
     "output_type": "execute_result"
    }
   ],
   "source": [
    "rotIzquierda([1, 2, 3, 4, 5], 4)\n",
    "# Resultado: [5, 1, 2, 3, 4]"
   ]
  },
  {
   "cell_type": "markdown",
   "metadata": {},
   "source": [
    "### Pruebas  Automaticas\n",
    "\n",
    "Todas las pruebas deben funcionar para obetener los puntos del ejercicio.\n",
    "\n",
    "##### Importante :\n",
    "En este ejercicio se evalua que la funcion sea optima, el tiempo de ejecucion tiene que ser el menor posible, se va a evaluar el resultado correcto y el tiempo de ejecucion, si en alguna de las pruebas obtienes **[FALLO: TIMEOUT]** la funcion no es optima debes cambiarla hasta que todas las pruebas pasen\n",
    "\n",
    "#### TIP:\n",
    "Utiliza **slice** en el array para optimizar la funcion"
   ]
  },
  {
   "cell_type": "code",
   "execution_count": 345,
   "metadata": {},
   "outputs": [
    {
     "name": "stdout",
     "output_type": "stream",
     "text": [
      "Prueba 1\n",
      "Prueba 1[CORRECTA]\n",
      "Prueba 2\n",
      "Prueba 2[CORRECTA]\n",
      "Prueba 3\n",
      "Prueba 3[CORRECTA]\n"
     ]
    }
   ],
   "source": [
    "validaciones.rotIzquierda_function(rotIzquierda)"
   ]
  },
  {
   "cell_type": "markdown",
   "metadata": {},
   "source": [
    "## 4 - Factores Primos\n",
    "\n",
    "Para cada $n$ queremos obtener el conteo maximo de numeros primos unicos en en rango inclusivo $[1, n]$,\n",
    "y retornar el valor del conteo en una nueva linea\n",
    "\n",
    "**Nota:** Recuerda que un numero primo solo es divisible por el mismo y que 1 no es un numero primo\n",
    "\n",
    "##### Ejemplos:\n",
    "\n",
    "###### Ejemplo 1\n",
    "Entrada: 1\n",
    "\n",
    "Salida esperada: 1\n",
    "\n",
    "Explicacion: El numero maximo de factores primos unicos en el rango inclusivo $[1,1]$ es $0$, porque $1$ no es un numero primo.\n",
    "\n",
    "###### Ejemplo 2\n",
    "Entrada: 3\n",
    "\n",
    "Salida esperada: 1\n",
    "\n",
    "Explicacion: El numero maximo de factores primos unicos en el rango inclusivo $[1,3]$ es $1$, porque el numero $3$ tiene 1 factor primo unico (el mismo) \n",
    "\n",
    "###### Ejemplo 3\n",
    "Entrada: 500\n",
    "\n",
    "Salida esperada: 4\n",
    "\n",
    "Explicacion: El numero maximo de factores primos unicos en el rango inclusivo $[1,500]$ es $4$, porque el producto de los primeros cuatro numeros primos unicos es $2 \\times 3 \\times 5 \\times 7 = 210$ y no hay ningun numero primo unico que multiplicado por el resultado sea $\t\\leqslant 500$\n",
    "\n",
    "\n",
    "\n",
    "#### Tip: \n",
    "Utiliza la funcion `range()` de python\n"
   ]
  },
  {
   "cell_type": "code",
   "execution_count": 319,
   "metadata": {},
   "outputs": [],
   "source": [
    "import math\n",
    "\n",
    "def es_primo(i):\n",
    "    if i < 2:     #si es menos que 2 no es primo, por lo tanto devolverá Falso\n",
    "        return False\n",
    "    \n",
    "    for x in range(2,i):\n",
    "        if i % x == 0:\n",
    "            False\n",
    "    return True\n",
    "\n",
    "def conteoPrimos(n):\n",
    "    #Esta funcion recibe como parametro n y \n",
    "    #retorna el conteo maximo de numeros primos unicos\n",
    "    # tu codigo aqui\n",
    "    contador = 0\n",
    "    suma = 1\n",
    "    \n",
    "    for i in range(1,n+1):\n",
    "        if n == 1:\n",
    "            contador = 0\n",
    "            \n",
    "        if es_primo(i) == True:\n",
    "            contador+=1\n",
    "            suma*=i\n",
    "            \n",
    "            if suma > n:\n",
    "                contador-=1\n",
    "                \n",
    "    return contador\n",
    "            "
   ]
  },
  {
   "cell_type": "markdown",
   "metadata": {},
   "source": [
    "### Pruebas"
   ]
  },
  {
   "cell_type": "code",
   "execution_count": 320,
   "metadata": {},
   "outputs": [
    {
     "data": {
      "text/plain": [
       "0"
      ]
     },
     "execution_count": 320,
     "metadata": {},
     "output_type": "execute_result"
    }
   ],
   "source": [
    "conteoPrimos(1)"
   ]
  },
  {
   "cell_type": "code",
   "execution_count": 321,
   "metadata": {},
   "outputs": [
    {
     "data": {
      "text/plain": [
       "4"
      ]
     },
     "execution_count": 321,
     "metadata": {},
     "output_type": "execute_result"
    }
   ],
   "source": [
    "conteoPrimos(500)"
   ]
  },
  {
   "cell_type": "markdown",
   "metadata": {},
   "source": [
    "### Pruebas  Automaticas\n",
    "\n",
    "Todas las pruebas deben funcionar para obetener los puntos del ejercicio.\n",
    "\n",
    "##### Importante :\n",
    "En este ejercicio se evalua que la funcion sea optima, el tiempo de ejecucion tiene que ser el menor posible, se va a evaluar el resultado correcto y el tiempo de ejecucion, si en alguna de las pruebas obtienes **[FALLO: TIMEOUT]** la funcion no es optima debes cambiarla hasta que todas las pruebas pasen"
   ]
  },
  {
   "cell_type": "code",
   "execution_count": 322,
   "metadata": {},
   "outputs": [
    {
     "name": "stdout",
     "output_type": "stream",
     "text": [
      "Prueba 1\n",
      "Run time: 5.9604644775390625e-06\n",
      "Prueba 1[CORRECTA]\n",
      "Prueba 2\n",
      "Run time: 5.245208740234375e-06\n",
      "Prueba 2[CORRECTA]\n",
      "Prueba 3\n",
      "Run time: 1.2636184692382812e-05\n",
      "Prueba 3[CORRECTA]\n",
      "Prueba 4\n",
      "Run time: 0.010305166244506836\n",
      "Prueba 4[CORRECTA]\n",
      "Prueba 5\n",
      "Run time: 0.7469093799591064\n",
      "Prueba 5[FALLO: Salida incorecta]\n",
      "Prueba 6\n",
      "Prueba 6[FALLO: Salida incorecta]\n",
      "Prueba 7\n",
      "Prueba 7[FALLO: Salida incorecta]\n",
      "Prueba 8\n",
      "Prueba 8[FALLO: Salida incorecta]\n",
      "Prueba 9\n",
      "Prueba 9[FALLO: Salida incorecta]\n",
      "Prueba 10\n",
      "Prueba 10[FALLO: Salida incorecta]\n",
      "Prueba 11\n",
      "Prueba 11[FALLO: Salida incorecta]\n",
      "Prueba 12\n",
      "Prueba 12[FALLO: Salida incorecta]\n"
     ]
    }
   ],
   "source": [
    "validaciones.primeCount_function(conteoPrimos)"
   ]
  },
  {
   "cell_type": "markdown",
   "metadata": {},
   "source": [
    "## 5 - Conteo de patrones\n",
    "\n",
    "En este problema tienes que encontrar cuantas veces aparace en un texto cierto partron.\n",
    "\n",
    "Ejemplo:\n",
    "\n",
    "Entrada: GCGCG patron : GCG\n",
    "\n",
    "Resultado: 2"
   ]
  },
  {
   "cell_type": "code",
   "execution_count": 194,
   "metadata": {},
   "outputs": [],
   "source": [
    "def patternCount(text, pattern):\n",
    "    ## Tu codigo aqui\n",
    "    count = 0\n",
    "    for i in range(0, (len(text) - len(pattern) + 1)):\n",
    "        if text[i:i+len(pattern)] == pattern:\n",
    "            count = count + 1\n",
    "    return count"
   ]
  },
  {
   "cell_type": "markdown",
   "metadata": {},
   "source": [
    "#### Prueba tu codigo\n",
    "Texto: GACCATCAAAACTGATAAACTACTTAAAAATCAGT\n",
    "\n",
    "Patron: AAA\n",
    "    \n",
    "Resultado: 6"
   ]
  },
  {
   "cell_type": "code",
   "execution_count": 195,
   "metadata": {},
   "outputs": [
    {
     "data": {
      "text/plain": [
       "6"
      ]
     },
     "execution_count": 195,
     "metadata": {},
     "output_type": "execute_result"
    }
   ],
   "source": [
    "patternCount(\"GACCATCAAAACTGATAAACTACTTAAAAATCAGT\", \"AAA\")"
   ]
  },
  {
   "cell_type": "markdown",
   "metadata": {},
   "source": [
    "### Pruebas  Automaticas\n",
    "\n",
    "Todas las pruebas deben funcionar para obetener los puntos del ejercicio."
   ]
  },
  {
   "cell_type": "code",
   "execution_count": 196,
   "metadata": {},
   "outputs": [
    {
     "name": "stdout",
     "output_type": "stream",
     "text": [
      "Prueba [CORRECTA]\n"
     ]
    }
   ],
   "source": [
    "validaciones.patternCount_function(patternCount)"
   ]
  },
  {
   "cell_type": "markdown",
   "metadata": {},
   "source": [
    "## 6 - Palabras Frecuentes\n",
    "\n",
    "El reto de este algoritmo es encontrar de la forma mas optima posible, los mas frecuentes *k-mers* en un texto, puedes reutilizar tu funcion **patternCount** para este problema\n",
    "\n",
    "\n",
    "Ejemplo:\n",
    "\n",
    "**Texto** = ACTGACTCCCACCCC y **k** = 3. \n",
    "\n",
    "Como k es 3 el primer **k-mer** = ACT, el segundo seria CTG, pensemos en **k-mer** como una ventana de longitud *k* que escanea todo el texto.\n",
    "\n",
    "El resultado de nuestra funcion tiene que ser una lista con el o los **k-mers** que mas aparecen en el texto, para nuestro ejemplo el resutlado debe ser: **CCC**\n",
    "\n",
    "Count(0) = Count(4) = 2 porque **ACT** aparece 2 veces en el texto.\n",
    "\n",
    "<img src=\"assets/count_array.png\" width=\"60%\">"
   ]
  },
  {
   "cell_type": "code",
   "execution_count": 211,
   "metadata": {},
   "outputs": [],
   "source": [
    "def frecuentWords(text, k):\n",
    "    ## tu codigo aqui\n",
    "    maxcount = 0\n",
    "    patternlength = int(k)\n",
    "    maxpattern = []\n",
    "    for i in range(0, (len(text) - patternlength + 1)):\n",
    "        if patternCount(text, text[i:i + patternlength]) > maxcount:\n",
    "            maxcount = patternCount(text, text[i:i+patternlength])\n",
    "            maxpattern = []\n",
    "            maxpattern.append(text[i:i + patternlength])\n",
    "        elif patternCount(text, text[i:i + patternlength]) == maxcount and text[i:i+patternlength] not in maxpattern:\n",
    "            maxpattern.append(text[i:i + patternlength])\n",
    "    print(maxcount)      \n",
    "    return maxpattern"
   ]
  },
  {
   "cell_type": "markdown",
   "metadata": {},
   "source": [
    "### Prueba tu codigo\n",
    "text = ACGTTGCATGTCGCATGATGCATGAGAGCT\n",
    "\n",
    "k= 4\n",
    "\n",
    "Resultado:\n",
    "\n",
    "[CATG, GCAT]"
   ]
  },
  {
   "cell_type": "code",
   "execution_count": 215,
   "metadata": {},
   "outputs": [
    {
     "name": "stdout",
     "output_type": "stream",
     "text": [
      "3\n"
     ]
    },
    {
     "data": {
      "text/plain": [
       "['GCAT', 'CATG']"
      ]
     },
     "execution_count": 215,
     "metadata": {},
     "output_type": "execute_result"
    }
   ],
   "source": [
    "frecuentWords(\"ACGTTGCATGTCGCATGATGCATGAGAGCT\", 4)"
   ]
  },
  {
   "cell_type": "markdown",
   "metadata": {},
   "source": [
    "### Pruebas  Automaticas\n",
    "\n",
    "Todas las pruebas deben funcionar para obetener los puntos del ejercicio."
   ]
  },
  {
   "cell_type": "code",
   "execution_count": 216,
   "metadata": {},
   "outputs": [
    {
     "name": "stdout",
     "output_type": "stream",
     "text": [
      "15\n",
      "Prueba [CORRECTA]\n"
     ]
    }
   ],
   "source": [
    "validaciones.frecuentWords_function(frecuentWords)"
   ]
  },
  {
   "cell_type": "markdown",
   "metadata": {},
   "source": [
    "# 7- Metodo de Euler\n",
    "\n",
    "El metodo de Euler se utiliza para aproximar la solucion particular de una ecuacion diferencial dado un valor inicial. Con esta informacion se sabe que la grafica de esa solucion pasa a traves del punto $(x_0,y_0)$ y tiene una pendiente $F(x_0,y_0)$ en ese punto, esto da un punto de partida para aproximar la solucion.\n",
    "\n",
    "A partir del punto inicial, se sigue en la direccion indicada por la pendiente. Mediante un pequeño paso $h$, se mueve a lo largo de la recta tangente hasta llegar al punto $(x_1,y_1)$ donde:\n",
    "\\begin{equation*}\n",
    "\\ x_1 = x_0 + h       \\\\\n",
    "\\ y_1 = y_0 + hF(x_0,y_0)\\\\\n",
    "\\end{equation*}\n",
    "\n",
    "\n",
    "<img src=\"assets/Euler.png\" width=\"350\">\n",
    "\n",
    "Como se muestra en la figura se considera $(x_1,y_1)$ como un nuevo punto inicial.\n",
    "\n",
    "Los valores de $x$ son:\n",
    "\\begin{equation*}\n",
    "\\ x_1 = x_0 + h       \\\\\n",
    "\\ x_2 = x_1 + h       \\\\\n",
    "\\    .                \\\\\n",
    "\\    .                \\\\\n",
    "\\    .                \\\\\n",
    "\\ x_n = x_{n-1} + h   \\\\\n",
    "\\end{equation*}\n",
    "\n",
    "\n",
    "Los valores de $y$ son:\n",
    "\\begin{equation*}\n",
    "\\ y_1 = y_0 + hF(x_0,y_0)\\\\\n",
    "\\ y_1 = y_1 + hF(x_1,y_1)\\\\\n",
    "\\       . \\\\\n",
    "\\       . \\\\\n",
    "\\       . \\\\\n",
    "\\ y_n = y_{n-1} + hF(x_{n-1},y_{n-1})\\\\\n",
    "\\end{equation*}\n",
    "\n",
    "\n",
    "#### Problema 7\n",
    "El ejecicio consiste en implementar la funcion *euler_metod* esta funcion recibe como parametro el \n",
    "* punto inicial $x_0$\n",
    "* punto inicial $y_0$\n",
    "* Paso $h$ \n",
    "* numero de iteraciones $n$ \n",
    "* La equacion diferencial que queremos aproximar, esta funcion tambien recibe los parametros $x$ y $y$\n",
    "* La funcion de la solucion exacta que tambien tambien recibe los parametros $x$ y $y$\n",
    "\n",
    "La funcion debe retornar el valor de $y_n$ y el error\n",
    "$error=|y - y_n|$ "
   ]
  },
  {
   "cell_type": "code",
   "execution_count": 303,
   "metadata": {},
   "outputs": [],
   "source": [
    "import math\n",
    "def euler_method(x,y,h,n, diff_eq, func):\n",
    "    \"\"\"\n",
    "    Parametros x, y punto inicial, logitud del paso h , n numero de iteraciones,\n",
    "    diff_eq la equacion diferencial y func la funcion de la solucion exacta\n",
    "    Retorna y y el error\n",
    "    \"\"\"\n",
    "    # tu codigo aqui\n",
    "    #def Euler2(f, xa, xb, ya, y1a, n):\n",
    "    temp = -0\n",
    "  \n",
    "    # Iterating till the point at which we \n",
    "    # need approximation \n",
    "    while x < n: \n",
    "        temp = y \n",
    "        y = y + h * y_prime(x, y) \n",
    "        x = x + h \n",
    "    return y\n",
    "        "
   ]
  },
  {
   "cell_type": "markdown",
   "metadata": {},
   "source": [
    "### Ejemplo\n",
    "\n",
    "Queremos aproximar la solucion particular de la ecuacion diferencial\n",
    "\\begin{equation*}\n",
    "\\ \\frac{\\partial y}{\\partial x} = -2y \\\\\n",
    "\\end{equation*}\n",
    "Donde $y(0) = 4$ vamos a unsa un de $h=0.1$\n",
    "\n",
    "\\begin{equation*}\n",
    "\\ y = 4e^{-2x} \\\\\n",
    "\\end{equation*}"
   ]
  },
  {
   "cell_type": "code",
   "execution_count": 304,
   "metadata": {},
   "outputs": [],
   "source": [
    "### Implementando las funciones del ejemplo\n",
    "import math \n",
    "\n",
    "def y_prime(x, y):\n",
    "    return -2*y\n",
    "\n",
    "def y(x):\n",
    "    return 4 * math.exp(-2*x)"
   ]
  },
  {
   "cell_type": "code",
   "execution_count": 306,
   "metadata": {},
   "outputs": [
    {
     "data": {
      "text/plain": [
       "0.81450625"
      ]
     },
     "execution_count": 306,
     "metadata": {},
     "output_type": "execute_result"
    }
   ],
   "source": [
    "\"\"\"\n",
    "Llamamos a la funcion de euler\n",
    "euler_method(0,4,0.1,10, y_prime,y)\n",
    "Parametros :\n",
    "x = 0\n",
    "y = 4\n",
    "d = 0.1\n",
    "n = 10\n",
    "diff_eq = y_prime\n",
    "func = y\n",
    "\"\"\"\n",
    "euler_method(0, 1, 0.025, 0.1,y_prime,y)\n",
    "#euler_method(0,4,0.1,10, y_prime,y)"
   ]
  },
  {
   "cell_type": "markdown",
   "metadata": {},
   "source": [
    "## 8 - XOR\n",
    "\n",
    "En la siguiente celda crea una funcion para la compuerta logica XOR \n",
    "\n",
    "<img src=\"assets/xor.png\" width=\"400\">\n"
   ]
  },
  {
   "cell_type": "code",
   "execution_count": 218,
   "metadata": {},
   "outputs": [],
   "source": [
    "def xor(a,b):\n",
    "    \"\"\"\n",
    "    Esta funcion recibe dos valores booleanos, ejemplo xor(1, 0) o True y False\n",
    "    y retorna 0 o 1 como resultado de la operacion logica XOR\n",
    "    \"\"\"\n",
    "    # tu codigo aqui\n",
    "    return a != b"
   ]
  },
  {
   "cell_type": "code",
   "execution_count": 219,
   "metadata": {},
   "outputs": [
    {
     "data": {
      "text/plain": [
       "True"
      ]
     },
     "execution_count": 219,
     "metadata": {},
     "output_type": "execute_result"
    }
   ],
   "source": [
    "xor(0 , 1) "
   ]
  },
  {
   "cell_type": "code",
   "execution_count": 220,
   "metadata": {},
   "outputs": [
    {
     "data": {
      "text/plain": [
       "False"
      ]
     },
     "execution_count": 220,
     "metadata": {},
     "output_type": "execute_result"
    }
   ],
   "source": [
    "xor(0 , 0)"
   ]
  },
  {
   "cell_type": "code",
   "execution_count": 221,
   "metadata": {},
   "outputs": [
    {
     "data": {
      "text/plain": [
       "True"
      ]
     },
     "execution_count": 221,
     "metadata": {},
     "output_type": "execute_result"
    }
   ],
   "source": [
    "xor(True , False)"
   ]
  },
  {
   "cell_type": "markdown",
   "metadata": {},
   "source": [
    "### Pruebas  Automaticas\n",
    "\n",
    "Todas las pruebas deben funcionar para obetener los puntos del ejercicio."
   ]
  },
  {
   "cell_type": "code",
   "execution_count": 222,
   "metadata": {},
   "outputs": [
    {
     "name": "stdout",
     "output_type": "stream",
     "text": [
      "Prueba 1\n",
      "Prueba 1 [CORRECTA]\n",
      "Prueba 2\n",
      "Prueba 2 [CORRECTA]\n"
     ]
    }
   ],
   "source": [
    "validaciones.xor_function(xor)"
   ]
  },
  {
   "cell_type": "markdown",
   "metadata": {},
   "source": [
    "## 9 - Maximo producto de parejas\n",
    "\n",
    "Encontrar el numero maximo del producto en 2 listas de numeros enteros no negativos\n",
    "\n",
    "**Entrada:** Una lista de numeros enteros\n",
    "**Salida:**  El valor maximo que se puede obtener multiplicando 2 elementos **diferentes** de la lista\n",
    "\n",
    "Ejemplo:\n",
    "\n",
    "Entrada : [5, 6, 2, 7, 4]\n",
    "Salida: 42\n",
    "\n",
    "<img src=\"assets/max_pairwise.png\" width=\"15%\">"
   ]
  },
  {
   "cell_type": "code",
   "execution_count": 237,
   "metadata": {},
   "outputs": [],
   "source": [
    "import numpy as np\n",
    "\n",
    "def max_pairwise(input):\n",
    "    ## tu codigo aqui\n",
    "    lista = np.unique(input)\n",
    "    lista = np.sort(lista)\n",
    "    primer_num_max = lista[-1]\n",
    "    segundo_num_max = lista[-2]\n",
    "    return primer_num_max * segundo_num_max\n",
    "    \n",
    "#max_pairwise([11,2,3,4,5,6,7,8,8,9,9])"
   ]
  },
  {
   "cell_type": "markdown",
   "metadata": {},
   "source": [
    "## 10 - Ultimo Comun Multiplo\n",
    "\n",
    "El ultimo comun multipo de 2 positivos enteros $a$ y $b$ es el ultimo numero entero positivo mas pequeño $m$ que es divisible por $a$ y $b$\n",
    "\n",
    "Ejemplo:\n",
    "Entrada 6, 8\n",
    "Salida 24"
   ]
  },
  {
   "cell_type": "code",
   "execution_count": 273,
   "metadata": {},
   "outputs": [],
   "source": [
    "import math\n",
    "\n",
    "#funcion para hallar el maximo comun divisor\n",
    "def mcd(num1, num2):\n",
    "    return num1 if not num2 else mcd(num2, num1 % num2)\n",
    "\n",
    "#funcion para hallar el minimo comun multiplo\n",
    "def lcm(a,b):\n",
    "    ##tu codigo aqui\n",
    "    mcm = int(a * b / mcd(a, b))\n",
    "    return mcm"
   ]
  },
  {
   "cell_type": "code",
   "execution_count": 274,
   "metadata": {},
   "outputs": [
    {
     "data": {
      "text/plain": [
       "24"
      ]
     },
     "execution_count": 274,
     "metadata": {},
     "output_type": "execute_result"
    }
   ],
   "source": [
    "lcm(6,8)"
   ]
  },
  {
   "cell_type": "markdown",
   "metadata": {},
   "source": [
    "#### Prueba tu codigo\n",
    "Entrada: 28851538 1183019\n",
    "\n",
    "Salida: 1933053046"
   ]
  },
  {
   "cell_type": "code",
   "execution_count": 275,
   "metadata": {},
   "outputs": [
    {
     "data": {
      "text/plain": [
       "1933053046"
      ]
     },
     "execution_count": 275,
     "metadata": {},
     "output_type": "execute_result"
    }
   ],
   "source": [
    "lcm(28851538, 1183019)"
   ]
  }
 ],
 "metadata": {
  "kernelspec": {
   "display_name": "Python 3",
   "language": "python",
   "name": "python3"
  },
  "language_info": {
   "codemirror_mode": {
    "name": "ipython",
    "version": 3
   },
   "file_extension": ".py",
   "mimetype": "text/x-python",
   "name": "python",
   "nbconvert_exporter": "python",
   "pygments_lexer": "ipython3",
   "version": "3.7.4"
  }
 },
 "nbformat": 4,
 "nbformat_minor": 4
}
