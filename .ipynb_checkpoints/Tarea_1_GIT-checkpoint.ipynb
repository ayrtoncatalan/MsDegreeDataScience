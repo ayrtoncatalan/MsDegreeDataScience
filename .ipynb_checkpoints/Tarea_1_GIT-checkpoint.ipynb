{
 "cells": [
  {
   "cell_type": "markdown",
   "metadata": {},
   "source": [
    "# **-- Tarea #1 Repositorio GIT - Ayrton A. Lopez C. --**\n"
   ]
  },
  {
   "cell_type": "markdown",
   "metadata": {},
   "source": [
    "## * Crear un repositorio en GIT *\n",
    "* Para crear un repositorio nuevo en git.\n",
    "    * Git init"
   ]
  },
  {
   "cell_type": "code",
   "execution_count": 3,
   "metadata": {},
   "outputs": [
    {
     "name": "stdout",
     "output_type": "stream",
     "text": [
      "xcrun: error: invalid active developer path (/Library/Developer/CommandLineTools), missing xcrun at: /Library/Developer/CommandLineTools/usr/bin/xcrun\n"
     ]
    }
   ],
   "source": [
    "!git init"
   ]
  },
  {
   "cell_type": "markdown",
   "metadata": {},
   "source": [
    "## Hacer checkout a un repositorio\n",
    "\n",
    "* Crea una copia local del repositorio ejecutando\n",
    "(git clone /path/to/repository)\n",
    "*Si utilizas un servidor remoto, ejecuta\n",
    "(git clone username@host:/path/to/repository)"
   ]
  },
  {
   "cell_type": "code",
   "execution_count": 5,
   "metadata": {},
   "outputs": [
    {
     "name": "stdout",
     "output_type": "stream",
     "text": [
      "xcrun: error: invalid active developer path (/Library/Developer/CommandLineTools), missing xcrun at: /Library/Developer/CommandLineTools/usr/bin/xcrun\n",
      "xcrun: error: invalid active developer path (/Library/Developer/CommandLineTools), missing xcrun at: /Library/Developer/CommandLineTools/usr/bin/xcrun\n"
     ]
    }
   ],
   "source": [
    "!git branch\n",
    "!git checkout prueba"
   ]
  },
  {
   "cell_type": "markdown",
   "metadata": {},
   "source": [
    "## flujo de trabajo\n",
    "\n",
    "Tu repositorio local esta compuesto por tres \"árboles\" administrados por git. El primero es tu **Directorio de trabajo** que contiene los archivos, el segundo es el **Index** que actua como una zona intermedia, y el último es el **Head** que apunta al último commit realizado."
   ]
  },
  {
   "cell_type": "markdown",
   "metadata": {},
   "source": [
    "<img src=\"trees.png\">"
   ]
  },
  {
   "cell_type": "markdown",
   "metadata": {},
   "source": [
    "## Add & Commit\n",
    "\n",
    "Puedes registrar cambios (añadirlos al Index) usando **git add <filename>**. \n",
    "Este es el primer paso en el flujo de trabajo básico. Para hacer commit a estos cambios usa \n",
    "**git commit -m \"Commit message\"** Ahora el archivo esta incluído en el HEAD, pero aún no en tu \n",
    "repositorio remoto."
   ]
  },
  {
   "cell_type": "code",
   "execution_count": 7,
   "metadata": {},
   "outputs": [
    {
     "name": "stdout",
     "output_type": "stream",
     "text": [
      "xcrun: error: invalid active developer path (/Library/Developer/CommandLineTools), missing xcrun at: /Library/Developer/CommandLineTools/usr/bin/xcrun\n",
      "xcrun: error: invalid active developer path (/Library/Developer/CommandLineTools), missing xcrun at: /Library/Developer/CommandLineTools/usr/bin/xcrun\n",
      "xcrun: error: invalid active developer path (/Library/Developer/CommandLineTools), missing xcrun at: /Library/Developer/CommandLineTools/usr/bin/xcrun\n"
     ]
    }
   ],
   "source": [
    "!git add Tarea_1_GIT.txt\n",
    "!git status\n",
    "!git commit - \"Primer commit\""
   ]
  },
  {
   "cell_type": "markdown",
   "metadata": {},
   "source": [
    "## Envío de cambios\n",
    "\n",
    "Tus cambios están ahora en el **HEAD** de tu copia local. Para enviar estos cambios a tu repositorio remoto ejecuta **git push origin master**\n",
    "Reemplaza master por la rama a la que quieres enviar tus cambios.\n",
    "\n",
    "Si no has clonado un repositorio ya existente y quieres conectar tu repositorio local a un repositorio remoto, usa\n",
    "**git remote add origin <server>**\n",
    "Ahora podrás subir tus cambios al repositorio remoto seleccionado."
   ]
  },
  {
   "cell_type": "markdown",
   "metadata": {},
   "source": [
    "## Ramas\n",
    "\n",
    "Las ramas son utilizadas para desarrollar funcionalidades aisladas unas de otras. La rama master es la rama \"por defecto\" cuando creas un repositorio. Crea nuevas ramas durante el desarrollo y fusiónalas a la rama principal cuando termines.\n",
    "<img src=\"branches.png\">\n",
    "Crea una nueva rama llamada \"feature_x\" y cámbiate a ella usando\n",
    "**git checkout -b feature_x**\n",
    "vuelve a la rama principal\n",
    "**git checkout master**\n",
    "y borra la rama\n",
    "**git branch -d feature_x**\n",
    "Una rama nueva no estará disponible para los demás a menos que subas (push) la rama a tu repositorio remoto\n",
    "**git push origin <branch>**"
   ]
  },
  {
   "cell_type": "code",
   "execution_count": 8,
   "metadata": {},
   "outputs": [
    {
     "name": "stdout",
     "output_type": "stream",
     "text": [
      "xcrun: error: invalid active developer path (/Library/Developer/CommandLineTools), missing xcrun at: /Library/Developer/CommandLineTools/usr/bin/xcrun\n"
     ]
    }
   ],
   "source": [
    "!git checkout master"
   ]
  },
  {
   "cell_type": "markdown",
   "metadata": {},
   "source": [
    "## Remplaza cambios locales\n",
    "En caso de que hagas algo mal (lo que seguramente nunca suceda ;) puedes reemplazar cambios locales usando el comando\n",
    "**git checkout -- <filename>**\n",
    "Este comando reemplaza los cambios en tu directorio de trabajo con el último contenido de HEAD. Los cambios que ya han sido agregados al Index, así como también los nuevos archivos, se mantendrán sin cambio.\n",
    "\n",
    "Por otro lado, si quieres deshacer todos los cambios locales y commits, puedes traer la última versión del servidor y apuntar a tu copia local principal de esta forma\n",
    "**git fetch origin**\n",
    "**git reset --hard origin/master**"
   ]
  },
  {
   "cell_type": "markdown",
   "metadata": {},
   "source": [
    "## Datos útiles\n",
    "Interfaz gráfica por defecto\n",
    "**git**\n",
    "Colores especiales para la consola\n",
    "**git config color.ui true**\n",
    "Mostrar sólo una línea por cada commit en la traza\n",
    "**git config format.pretty oneline**\n",
    "Agregar archivos de forma interactiva\n",
    "**git add -i**\n"
   ]
  },
  {
   "cell_type": "code",
   "execution_count": 9,
   "metadata": {},
   "outputs": [
    {
     "name": "stdout",
     "output_type": "stream",
     "text": [
      "xcrun: error: invalid active developer path (/Library/Developer/CommandLineTools), missing xcrun at: /Library/Developer/CommandLineTools/usr/bin/xcrun\n"
     ]
    }
   ],
   "source": [
    "#agregar a GitHub hacer el push\n",
    "!git remote add origin https://github.com/ayrtonGalileo/prueba.git"
   ]
  },
  {
   "cell_type": "code",
   "execution_count": 10,
   "metadata": {},
   "outputs": [
    {
     "name": "stdout",
     "output_type": "stream",
     "text": [
      "xcrun: error: invalid active developer path (/Library/Developer/CommandLineTools), missing xcrun at: /Library/Developer/CommandLineTools/usr/bin/xcrun\n"
     ]
    }
   ],
   "source": [
    "#clonar o descargar repositorio\n",
    "!git clone https://github.com/ayrtonGalileo/prueba.git"
   ]
  },
  {
   "cell_type": "code",
   "execution_count": 11,
   "metadata": {},
   "outputs": [
    {
     "name": "stdout",
     "output_type": "stream",
     "text": [
      "xcrun: error: invalid active developer path (/Library/Developer/CommandLineTools), missing xcrun at: /Library/Developer/CommandLineTools/usr/bin/xcrun\n"
     ]
    }
   ],
   "source": [
    "#verificar el log del repositorio\n",
    "!git log"
   ]
  },
  {
   "cell_type": "code",
   "execution_count": null,
   "metadata": {},
   "outputs": [],
   "source": []
  }
 ],
 "metadata": {
  "kernelspec": {
   "display_name": "Python 3",
   "language": "python",
   "name": "python3"
  },
  "language_info": {
   "codemirror_mode": {
    "name": "ipython",
    "version": 3
   },
   "file_extension": ".py",
   "mimetype": "text/x-python",
   "name": "python",
   "nbconvert_exporter": "python",
   "pygments_lexer": "ipython3",
   "version": "3.7.4"
  }
 },
 "nbformat": 4,
 "nbformat_minor": 4
}
