{
 "cells": [
  {
   "cell_type": "markdown",
   "metadata": {},
   "source": [
    "## Ayrto Alexander López Catalán    --      Carnet: 09144134"
   ]
  },
  {
   "cell_type": "markdown",
   "metadata": {},
   "source": [
    "Que es una funcion: Es una proporcion o bloque de código reutilizable que se encarga de realizar una determinada tarea"
   ]
  },
  {
   "cell_type": "code",
   "execution_count": 5,
   "metadata": {},
   "outputs": [],
   "source": [
    "def sumar():\n",
    "    pass"
   ]
  },
  {
   "cell_type": "code",
   "execution_count": 6,
   "metadata": {},
   "outputs": [],
   "source": [
    "sumar()"
   ]
  },
  {
   "cell_type": "markdown",
   "metadata": {},
   "source": [
    "**Funcion con Parametros Posicionales** las funciones con parametros posicionales, son todas aquellas que declaran el orden de parametros y al momento de llamar la funcion se envian en ese orden, a continuación se deja un ejemplo"
   ]
  },
  {
   "cell_type": "code",
   "execution_count": 19,
   "metadata": {},
   "outputs": [],
   "source": [
    "def fnSaludo(nombre, mensaje):\n",
    "    print(nombre, mensaje)"
   ]
  },
  {
   "cell_type": "code",
   "execution_count": 21,
   "metadata": {},
   "outputs": [
    {
     "name": "stdout",
     "output_type": "stream",
     "text": [
      "Alexander Hola, Como estas?\n"
     ]
    }
   ],
   "source": [
    "msj = \"Hola, Como estas?\"\n",
    "name = \"Alexander\"\n",
    "\n",
    "fnSaludo(name,msj)"
   ]
  },
  {
   "cell_type": "markdown",
   "metadata": {},
   "source": [
    "**Funciones con Argumentos nombrados** Esta característica de Python nos permite llamar a la función indicando en cualquier orden los parámetros de la misma, pero debemos especificar en la llamada el nombre del parámetro y el valor a enviarle."
   ]
  },
  {
   "cell_type": "code",
   "execution_count": 22,
   "metadata": {},
   "outputs": [],
   "source": [
    "def calcular_sueldo(nombre,costohora,cantidadhoras):\n",
    "    sueldo=costohora*cantidadhoras\n",
    "    print(nombre,\"trabajo\",cantidadhoras,\"y cobra un sueldo de\",sueldo)"
   ]
  },
  {
   "cell_type": "code",
   "execution_count": 24,
   "metadata": {},
   "outputs": [
    {
     "name": "stdout",
     "output_type": "stream",
     "text": [
      "Juan trabajo 120 y cobra un sueldo de 1200\n",
      "Ana trabajo 40 y cobra un sueldo de 480\n",
      "Luis trabajo 90 y cobra un sueldo de 630\n"
     ]
    }
   ],
   "source": [
    "calcular_sueldo(\"Juan\",10,120)\n",
    "calcular_sueldo(costohora=12,cantidadhoras=40,nombre=\"Ana\")\n",
    "calcular_sueldo(cantidadhoras=90,nombre=\"Luis\",costohora=7)"
   ]
  },
  {
   "cell_type": "markdown",
   "metadata": {},
   "source": [
    "**Funciones con retornos de multiples variables** son funciones que pueden regresar x cantidad de resultados"
   ]
  },
  {
   "cell_type": "code",
   "execution_count": 39,
   "metadata": {},
   "outputs": [],
   "source": [
    "def calcular_sueldo(nombre,horastrabajadassemana,costohora):\n",
    "    sueldoSemanal= horastrabajadassemana * costohora\n",
    "    sueldoMensual= (sueldoSemanal * 4)\n",
    "    return nombre,sueldoSemanal,sueldoMensual"
   ]
  },
  {
   "cell_type": "code",
   "execution_count": 40,
   "metadata": {},
   "outputs": [
    {
     "name": "stdout",
     "output_type": "stream",
     "text": [
      "Nombre empleado: Alexander Sueldo por semana: 480 Sueldo por mes: 1920\n"
     ]
    }
   ],
   "source": [
    "name, sueldo_semana, sueldo_mes = calcular_sueldo(\"Alexander\",40,12)\n",
    "print(\"Nombre empleado:\", name, \"Sueldo por semana:\", sueldo_semana, \"Sueldo por mes:\", sueldo_mes)"
   ]
  },
  {
   "cell_type": "markdown",
   "metadata": {},
   "source": [
    "**Funciones con objetos**"
   ]
  },
  {
   "cell_type": "code",
   "execution_count": 41,
   "metadata": {},
   "outputs": [],
   "source": [
    "def calcula_media(*args):\n",
    "    total = 0\n",
    "    for i in args:\n",
    "        total += i\n",
    "    resultado = total / len(args)\n",
    "    return resultado"
   ]
  },
  {
   "cell_type": "code",
   "execution_count": 43,
   "metadata": {},
   "outputs": [
    {
     "name": "stdout",
     "output_type": "stream",
     "text": [
      "La media de 3, 5 y 10 es: 6.0\n"
     ]
    }
   ],
   "source": [
    "a, b, c = 3, 5, 10\n",
    "media = calcula_media(a, b, c)\n",
    "print(f\"La media de {a}, {b} y {c} es: {media}\")"
   ]
  },
  {
   "cell_type": "markdown",
   "metadata": {},
   "source": [
    "**Funciones con lambda** son funciones que no se necesitan definir **def**, a continuacion se da un ejemplo:"
   ]
  },
  {
   "cell_type": "code",
   "execution_count": 44,
   "metadata": {},
   "outputs": [],
   "source": [
    "doblar = lambda num: num*2"
   ]
  },
  {
   "cell_type": "code",
   "execution_count": 45,
   "metadata": {},
   "outputs": [
    {
     "data": {
      "text/plain": [
       "4"
      ]
     },
     "execution_count": 45,
     "metadata": {},
     "output_type": "execute_result"
    }
   ],
   "source": [
    "doblar(2)"
   ]
  }
 ],
 "metadata": {
  "kernelspec": {
   "display_name": "Python 3",
   "language": "python",
   "name": "python3"
  },
  "language_info": {
   "codemirror_mode": {
    "name": "ipython",
    "version": 3
   },
   "file_extension": ".py",
   "mimetype": "text/x-python",
   "name": "python",
   "nbconvert_exporter": "python",
   "pygments_lexer": "ipython3",
   "version": "3.7.4"
  }
 },
 "nbformat": 4,
 "nbformat_minor": 4
}
